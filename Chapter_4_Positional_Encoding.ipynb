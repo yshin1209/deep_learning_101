{
  "cells": [
    {
      "cell_type": "code",
      "execution_count": 1,
      "id": "50e8c5e0",
      "metadata": {
        "id": "50e8c5e0",
        "outputId": "106d2189-63b4-4e03-fced-1186cb35a55d",
        "colab": {
          "base_uri": "https://localhost:8080/"
        }
      },
      "outputs": [
        {
          "output_type": "stream",
          "name": "stdout",
          "text": [
            "Original Embeddings:\n",
            " [[0.2 0.5]\n",
            " [0.8 0.5]\n",
            " [0.9 0.6]]\n",
            "Positional Encodings:\n",
            " [[0.         1.        ]\n",
            " [0.84147098 1.        ]\n",
            " [0.90929743 0.99999998]]\n",
            "Modified Embeddings:\n",
            " [[0.2        1.5       ]\n",
            " [1.64147098 1.5       ]\n",
            " [1.80929743 1.59999998]]\n"
          ]
        }
      ],
      "source": [
        "# Deep Learning 101 for Scientists and Engineers\n",
        "# Chapter 4.2 Transformer Architecture and Key Components\n",
        "# Yong-Jun Shin, 2024\n",
        "\n",
        "# Positional Encoding\n",
        "\n",
        "import numpy as np\n",
        "\n",
        "# Example embeddings\n",
        "embeddings = np.array([[0.2, 0.5], [0.8, 0.5], [0.9, 0.6]])\n",
        "positions = np.array([0, 1, 2])\n",
        "d_model = 2  # Dimension of the embeddings\n",
        "\n",
        "# Generate positional encodings\n",
        "positional_encodings = np.zeros_like(embeddings)\n",
        "for pos in range(len(positions)):\n",
        "    for i in range(d_model):\n",
        "        # Calculate the argument for the sin and cos functions\n",
        "        position_factor = positions[pos] / (10000 ** ((2 * i) / d_model))\n",
        "        if i % 2 == 0:\n",
        "            positional_encodings[pos, i] = np.sin(position_factor)\n",
        "        else:\n",
        "            positional_encodings[pos, i] = np.cos(position_factor)\n",
        "\n",
        "# Combine embeddings with positional encodings\n",
        "modified_embeddings = embeddings + positional_encodings\n",
        "\n",
        "print(\"Original Embeddings:\\n\", embeddings)\n",
        "print(\"Positional Encodings:\\n\", positional_encodings)\n",
        "print(\"Modified Embeddings:\\n\", modified_embeddings)\n",
        "\n"
      ]
    }
  ],
  "metadata": {
    "kernelspec": {
      "display_name": "Python 3 (ipykernel)",
      "language": "python",
      "name": "python3"
    },
    "language_info": {
      "codemirror_mode": {
        "name": "ipython",
        "version": 3
      },
      "file_extension": ".py",
      "mimetype": "text/x-python",
      "name": "python",
      "nbconvert_exporter": "python",
      "pygments_lexer": "ipython3",
      "version": "3.11.7"
    },
    "colab": {
      "provenance": []
    }
  },
  "nbformat": 4,
  "nbformat_minor": 5
}