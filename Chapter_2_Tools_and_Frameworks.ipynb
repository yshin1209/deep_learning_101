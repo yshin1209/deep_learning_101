{
 "cells": [
  {
   "cell_type": "code",
   "execution_count": 1,
   "metadata": {
    "colab": {
     "base_uri": "https://localhost:8080/"
    },
    "id": "xXX8L5Qr3Jgi",
    "outputId": "988da6e8-f254-49c9-d4e1-e4e183677a37"
   },
   "outputs": [
    {
     "name": "stdout",
     "output_type": "stream",
     "text": [
      "Requirement already satisfied: torch in c:\\users\\yshin\\anaconda3\\lib\\site-packages (2.3.0)\n",
      "Requirement already satisfied: filelock in c:\\users\\yshin\\anaconda3\\lib\\site-packages (from torch) (3.13.1)\n",
      "Requirement already satisfied: typing-extensions>=4.8.0 in c:\\users\\yshin\\anaconda3\\lib\\site-packages (from torch) (4.9.0)\n",
      "Requirement already satisfied: sympy in c:\\users\\yshin\\anaconda3\\lib\\site-packages (from torch) (1.12)\n",
      "Requirement already satisfied: networkx in c:\\users\\yshin\\anaconda3\\lib\\site-packages (from torch) (3.1)\n",
      "Requirement already satisfied: jinja2 in c:\\users\\yshin\\anaconda3\\lib\\site-packages (from torch) (3.1.3)\n",
      "Requirement already satisfied: fsspec in c:\\users\\yshin\\anaconda3\\lib\\site-packages (from torch) (2023.10.0)\n",
      "Requirement already satisfied: mkl<=2021.4.0,>=2021.1.1 in c:\\users\\yshin\\anaconda3\\lib\\site-packages (from torch) (2021.4.0)\n",
      "Requirement already satisfied: intel-openmp==2021.* in c:\\users\\yshin\\anaconda3\\lib\\site-packages (from mkl<=2021.4.0,>=2021.1.1->torch) (2021.4.0)\n",
      "Requirement already satisfied: tbb==2021.* in c:\\users\\yshin\\anaconda3\\lib\\site-packages (from mkl<=2021.4.0,>=2021.1.1->torch) (2021.12.0)\n",
      "Requirement already satisfied: MarkupSafe>=2.0 in c:\\users\\yshin\\anaconda3\\lib\\site-packages (from jinja2->torch) (2.1.3)\n",
      "Requirement already satisfied: mpmath>=0.19 in c:\\users\\yshin\\anaconda3\\lib\\site-packages (from sympy->torch) (1.3.0)\n"
     ]
    }
   ],
   "source": [
    "# Deep Learning 101 for Scientists and Engineers\n",
    "# Chapter 2: Tools and Frameworks\n",
    "# Yong-Jun Shin, 2024\n",
    "\n",
    "# Install PyTorch in a Jupyter Notebook environment. \n",
    "# If you're using Google Colab, PyTorch is pre-installed, so this step is not necessary.\n",
    "# The '!' is used to run shell commands from within the notebook.\n",
    "!pip install torch"
   ]
  },
  {
   "cell_type": "code",
   "execution_count": 2,
   "metadata": {
    "id": "XMgqwnhh7z0U"
   },
   "outputs": [],
   "source": [
    "# Import PyTorch\n",
    "import torch"
   ]
  },
  {
   "cell_type": "code",
   "execution_count": 3,
   "metadata": {
    "colab": {
     "base_uri": "https://localhost:8080/"
    },
    "id": "gmmsJzeD7nq7",
    "outputId": "419f9a44-a391-4451-dcc1-d5e27677d706"
   },
   "outputs": [
    {
     "name": "stdout",
     "output_type": "stream",
     "text": [
      "tensor(1)\n",
      "torch.int64\n",
      "tensor(1.)\n",
      "torch.float32\n"
     ]
    }
   ],
   "source": [
    "# 0-dimensional tensor (scalar) examples\n",
    "a = 1\n",
    "tensor_a = torch.tensor(a)\n",
    "print(tensor_a)\n",
    "print(tensor_a.dtype)\n",
    "\n",
    "b = 1.0\n",
    "tensor_b = torch.tensor(b)\n",
    "print(tensor_b)\n",
    "print(tensor_b.dtype)"
   ]
  },
  {
   "cell_type": "code",
   "execution_count": 4,
   "metadata": {
    "colab": {
     "base_uri": "https://localhost:8080/"
    },
    "id": "ioAWiAzk_MSj",
    "outputId": "5d141e84-c24e-4b9f-cddd-63c65bbcc0b6"
   },
   "outputs": [
    {
     "name": "stdout",
     "output_type": "stream",
     "text": [
      "tensor([1., 2.])\n",
      "torch.float32\n",
      "torch.Size([2])\n"
     ]
    }
   ],
   "source": [
    "# 1-dimensional tensor (vector) example\n",
    "x = [1.0,2.0]\n",
    "tensor_x = torch.tensor(x)\n",
    "print(tensor_x)\n",
    "print(tensor_x.dtype)\n",
    "print(tensor_x.shape)"
   ]
  },
  {
   "cell_type": "code",
   "execution_count": 5,
   "metadata": {
    "colab": {
     "base_uri": "https://localhost:8080/"
    },
    "id": "5h7jcrSkC02f",
    "outputId": "51784470-5b1b-4483-b384-2d7bee12ef57"
   },
   "outputs": [
    {
     "name": "stdout",
     "output_type": "stream",
     "text": [
      "tensor([[1., 2.],\n",
      "        [3., 4.]], dtype=torch.float16)\n",
      "torch.float16\n",
      "torch.Size([2, 2])\n"
     ]
    }
   ],
   "source": [
    "# 2-dimensional tensor (matrix) example\n",
    "X = torch.tensor([[1.0, 2.0], [3.0, 4.0]], dtype = torch.float16)\n",
    "print(X)\n",
    "print(X.dtype)\n",
    "print(X.shape)"
   ]
  },
  {
   "cell_type": "code",
   "execution_count": 6,
   "metadata": {
    "colab": {
     "base_uri": "https://localhost:8080/"
    },
    "id": "MWZsvuM4xITQ",
    "outputId": "aad390f9-c5b6-42a0-f3e1-7e10a1f3b499"
   },
   "outputs": [
    {
     "name": "stdout",
     "output_type": "stream",
     "text": [
      "tensor(0.3333)\n"
     ]
    }
   ],
   "source": [
    "# Define x with requires_grad=True\n",
    "x = torch.tensor(3.0, requires_grad=True)\n",
    "\n",
    "# Define y and z\n",
    "y = 2*x\n",
    "z = torch.log(y)\n",
    "\n",
    "# Compute the gradient\n",
    "z.backward()\n",
    "\n",
    "# Print the gradient of y with respect to x\n",
    "print(x.grad)"
   ]
  }
 ],
 "metadata": {
  "colab": {
   "provenance": []
  },
  "kernelspec": {
   "display_name": "Python 3 (ipykernel)",
   "language": "python",
   "name": "python3"
  },
  "language_info": {
   "codemirror_mode": {
    "name": "ipython",
    "version": 3
   },
   "file_extension": ".py",
   "mimetype": "text/x-python",
   "name": "python",
   "nbconvert_exporter": "python",
   "pygments_lexer": "ipython3",
   "version": "3.11.7"
  }
 },
 "nbformat": 4,
 "nbformat_minor": 4
}
